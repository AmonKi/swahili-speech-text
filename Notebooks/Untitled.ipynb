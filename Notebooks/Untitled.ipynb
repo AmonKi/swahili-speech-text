{
 "cells": [
  {
   "cell_type": "code",
   "execution_count": 1,
   "id": "6d37fe8f",
   "metadata": {},
   "outputs": [
    {
     "name": "stdout",
     "output_type": "stream",
     "text": [
      "Collecting torchaudio\n",
      "  Downloading torchaudio-0.9.0-cp38-cp38-manylinux1_x86_64.whl (1.9 MB)\n",
      "\u001b[K     |████████████████████████████████| 1.9 MB 470 kB/s eta 0:00:01\n",
      "\u001b[?25hCollecting torch==1.9.0\n",
      "  Downloading torch-1.9.0-cp38-cp38-manylinux1_x86_64.whl (831.4 MB)\n",
      "\u001b[K     |████████████████████████████████| 831.4 MB 432 bytes/s  0:00:01    |▊                               | 19.0 MB 501 kB/s eta 0:26:59     |███▌                            | 90.8 MB 495 kB/s eta 0:24:54     |█████████▌                      | 246.8 MB 430 kB/s eta 0:22:38     |████████████▋                   | 329.1 MB 472 kB/s eta 0:17:45     |████████████████████            | 517.6 MB 387 kB/s eta 0:13:31     |██████████████████████████      | 674.0 MB 478 kB/s eta 0:05:30     |██████████████████████████▎     | 682.2 MB 492 kB/s eta 0:05:04     |████████████████████████████▎   | 734.6 MB 571 kB/s eta 0:02:50\n",
      "\u001b[?25hRequirement already satisfied: typing-extensions in /home/amon/anaconda3/lib/python3.8/site-packages (from torch==1.9.0->torchaudio) (3.7.4.3)\n",
      "Installing collected packages: torch, torchaudio\n",
      "Successfully installed torch-1.9.0 torchaudio-0.9.0\n"
     ]
    }
   ],
   "source": [
    "!pip install torchaudio"
   ]
  },
  {
   "cell_type": "code",
   "execution_count": null,
   "id": "cfb5d3de",
   "metadata": {},
   "outputs": [],
   "source": []
  }
 ],
 "metadata": {
  "kernelspec": {
   "display_name": "Python 3",
   "language": "python",
   "name": "python3"
  },
  "language_info": {
   "codemirror_mode": {
    "name": "ipython",
    "version": 3
   },
   "file_extension": ".py",
   "mimetype": "text/x-python",
   "name": "python",
   "nbconvert_exporter": "python",
   "pygments_lexer": "ipython3",
   "version": "3.8.8"
  }
 },
 "nbformat": 4,
 "nbformat_minor": 5
}

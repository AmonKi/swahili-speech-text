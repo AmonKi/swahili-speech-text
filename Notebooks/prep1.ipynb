{
 "cells": [
  {
   "cell_type": "code",
   "execution_count": 2,
   "id": "a0ccd1db",
   "metadata": {},
   "outputs": [],
   "source": [
    "import warnings\n",
    "import numpy as np\n",
    "import pandas as pd\n",
    "import seaborn as sns\n",
    "import librosa\n",
    "import matplotlib.pyplot as plt\n",
    "import plotly.express as px\n",
    "import plotly.io as pio\n",
    "from IPython.display import Image \n",
    "import plotly.graph_objects as go\n",
    "import sys\n",
    "import os"
   ]
  },
  {
   "cell_type": "code",
   "execution_count": 3,
   "id": "b46c4109",
   "metadata": {},
   "outputs": [],
   "source": [
    "sns.set()\n",
    "%matplotlib inline\n",
    "warnings.filterwarnings(\"ignore\")\n",
    "pd.set_option('display.max_columns', None)\n",
    "pd.set_option('display.max_colwidth', None)\n",
    "pd.set_option(\"expand_frame_repr\", False)\n",
    "pd.set_option('display.float_format', '{:.2f}'.format)\n",
    "sys.path.append(os.path.abspath(os.path.join('../scripts')))"
   ]
  },
  {
   "cell_type": "code",
   "execution_count": 6,
   "id": "d0bed651",
   "metadata": {},
   "outputs": [],
   "source": [
    "from clean_audio import CleanAudio\n",
    "from file_handler import FileHandler\n",
    "from audio_vis import AudioVis\n",
    "#from AudioUtil import AudioUtil"
   ]
  },
  {
   "cell_type": "code",
   "execution_count": 7,
   "id": "506b620f",
   "metadata": {},
   "outputs": [],
   "source": [
    "clean_audio = CleanAudio()\n",
    "file_handler = FileHandler()\n",
    "audio_vis = AudioVis()"
   ]
  },
  {
   "cell_type": "markdown",
   "id": "12bea843",
   "metadata": {},
   "source": [
    "# Load Data #"
   ]
  },
  {
   "cell_type": "code",
   "execution_count": 10,
   "id": "f043033e",
   "metadata": {},
   "outputs": [],
   "source": [
    "PATH_TRAIN_WAV = \"../data/train/wav/\"\n",
    "PATH_TEST_WAV = \"../data/test/wav5/\"\n",
    "PATH_TRAIN_TEXT = \"../data/train/text\"\n",
    "PATH_TEST_TEXT = \"../data/test/text\""
   ]
  },
  {
   "cell_type": "code",
   "execution_count": 11,
   "id": "49ab2fe5",
   "metadata": {},
   "outputs": [
    {
     "name": "stdout",
     "output_type": "stream",
     "text": [
      "Total training data: 30\n",
      "Total test data: 8\n"
     ]
    }
   ],
   "source": [
    "train_labels = os.listdir(PATH_TRAIN_WAV)\n",
    "test_labels = os.listdir(PATH_TEST_WAV)\n",
    "train_labels = [i.strip('.wav') for i in train_labels]\n",
    "test_labels = [i.strip('.wav') for i in test_labels]\n",
    "print(f\"Total training data: {len(train_labels)}\")\n",
    "print(f\"Total test data: {len(test_labels)}\")"
   ]
  },
  {
   "cell_type": "code",
   "execution_count": 12,
   "id": "9dbcb049",
   "metadata": {},
   "outputs": [
    {
     "name": "stdout",
     "output_type": "stream",
     "text": [
      "Total training data: 0\n",
      "Total test data: 0\n"
     ]
    }
   ],
   "source": [
    "text_data, label_data = file_handler.read_data(PATH_TRAIN_TEXT, PATH_TEST_TEXT, train_labels, test_labels)\n",
    "print(f\"Total training data: {len(text_data)}\")\n",
    "print(f\"Total test data: {len(label_data)}\")"
   ]
  },
  {
   "cell_type": "code",
   "execution_count": null,
   "id": "be5a15a2",
   "metadata": {},
   "outputs": [],
   "source": []
  }
 ],
 "metadata": {
  "kernelspec": {
   "display_name": "Python 3",
   "language": "python",
   "name": "python3"
  },
  "language_info": {
   "codemirror_mode": {
    "name": "ipython",
    "version": 3
   },
   "file_extension": ".py",
   "mimetype": "text/x-python",
   "name": "python",
   "nbconvert_exporter": "python",
   "pygments_lexer": "ipython3",
   "version": "3.8.8"
  }
 },
 "nbformat": 4,
 "nbformat_minor": 5
}

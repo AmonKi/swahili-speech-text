{
 "cells": [
  {
   "cell_type": "code",
   "execution_count": 1,
   "id": "6d37fe8f",
   "metadata": {},
   "outputs": [
    {
     "name": "stdout",
     "output_type": "stream",
     "text": [
      "Collecting torchaudio\n",
      "  Downloading torchaudio-0.9.0-cp38-cp38-manylinux1_x86_64.whl (1.9 MB)\n",
      "\u001b[K     |████████████████████████████████| 1.9 MB 470 kB/s eta 0:00:01\n",
      "\u001b[?25hCollecting torch==1.9.0\n",
      "  Downloading torch-1.9.0-cp38-cp38-manylinux1_x86_64.whl (831.4 MB)\n",
      "\u001b[K     |████████████████████████████████| 831.4 MB 432 bytes/s  0:00:01    |▊                               | 19.0 MB 501 kB/s eta 0:26:59     |███▌                            | 90.8 MB 495 kB/s eta 0:24:54     |█████████▌                      | 246.8 MB 430 kB/s eta 0:22:38     |████████████▋                   | 329.1 MB 472 kB/s eta 0:17:45     |████████████████████            | 517.6 MB 387 kB/s eta 0:13:31     |██████████████████████████      | 674.0 MB 478 kB/s eta 0:05:30     |██████████████████████████▎     | 682.2 MB 492 kB/s eta 0:05:04     |████████████████████████████▎   | 734.6 MB 571 kB/s eta 0:02:50\n",
      "\u001b[?25hRequirement already satisfied: typing-extensions in /home/amon/anaconda3/lib/python3.8/site-packages (from torch==1.9.0->torchaudio) (3.7.4.3)\n",
      "Installing collected packages: torch, torchaudio\n",
      "Successfully installed torch-1.9.0 torchaudio-0.9.0\n"
     ]
    }
   ],
   "source": [
    "!pip install torchaudio"
   ]
  },
  {
   "cell_type": "code",
   "execution_count": 2,
   "id": "cfb5d3de",
   "metadata": {},
   "outputs": [
    {
     "name": "stderr",
     "output_type": "stream",
     "text": [
      "Matplotlib is building the font cache; this may take a moment.\n"
     ]
    }
   ],
   "source": [
    "import math, random\n",
    "import torch\n",
    "import torchaudio\n",
    "from torchaudio import transforms\n",
    "from IPython.display import Audio\n",
    "import matplotlib.pyplot as plt\n",
    "import IPython.display as ipd\n",
    "import librosa\n",
    "import librosa.display\n",
    "import numpy as np\n",
    "import glob\n",
    "import os\n",
    "import pandas as pd\n",
    "import traceback\n",
    "import numpy as np\n",
    "from tqdm import tqdm\n",
    "import pandas as pd"
   ]
  },
  {
   "cell_type": "code",
   "execution_count": 10,
   "id": "2a29990b",
   "metadata": {},
   "outputs": [],
   "source": [
    "import librosa\n",
    "import pandas as pd\n",
    "import traceback\n",
    "import os\n",
    "\n",
    "class MetaCreate():\n",
    "    def __init__(self, transcription_path:str=r'/home/amon/Downloads/ALFFA_PUBLIC/ASR/SWAHILI/data/train/text', audio_path:str='/home/amon/Downloads/ALFFA_PUBLIC/ASR/SWAHILI/data/train',audio_extension='wav') -> None:\n",
    "        self.meta=None\n",
    "        self.transcription_path=transcription_path\n",
    "        self.audio_path=audio_path\n",
    "        self.audio_extension=audio_extension\n",
    "        self.file_to_trancscript={}\n",
    "        self.file_to_path={}\n",
    "    def load_transcription(self):\n",
    "        name_to_text = {}\n",
    "        try:\n",
    "            with open (self.transcription_path, encoding=\"utf-8\")as f:\n",
    "                f.readline()\n",
    "                for line in f:\n",
    "                    line=line.strip()\n",
    "                    ls=line.split(\"\\t\",1)\n",
    "                    name_to_text[ls[0]]=ls[1]\n",
    "            self.file_to_trancscript=name_to_text\n",
    "        except FileNotFoundError:\n",
    "            print(f\"File {self.transcription_path} couldn't be found\")\n",
    "        except Exception:\n",
    "            print(\"Error Occured\")\n",
    "            traceback.print_exc()\n",
    "        return name_to_text\n",
    "    def get_file_to_transcription(self):\n",
    "        return self.file_to_trancscript\n",
    "\n",
    "    def load_audio_file_paths(self):\n",
    "        dict={}\n",
    "        try:\n",
    "            files = librosa.util.find_files(self.audio_path, ext=self.audio_extension, recurse=True)\n",
    "            names = [os.path.splitext(os.path.basename(x))[0] for x in files]\n",
    "            for i in range(0,len(files)):\n",
    "                dict[names[i]]=os.path.relpath(files[i])\n",
    "            self.file_to_path=dict\n",
    "        except Exception:\n",
    "            print(\"Error Occured\")\n",
    "            traceback.print_exc()\n",
    "        return dict\n",
    "    def get_file_to_path(self):\n",
    "        return self.file_to_path\n",
    "    def meta_data(self): \n",
    "        target=[]\n",
    "        filenames=[]\n",
    "        paths=[]\n",
    "        duration_of_recordings=[]\n",
    "        channels=[]\n",
    "        sampleRates=[]\n",
    "        for i in self.file_to_trancscript:\n",
    "            try:\n",
    "                target.append(self.file_to_trancscript[i])\n",
    "                filenames.append(i)\n",
    "                paths.append(self.file_to_path[i])\n",
    "\n",
    "                audio, sampleRate = librosa.load(self.file_to_path[i],sr=None,mono=False)\n",
    "                sampleRates.append(sampleRate)\n",
    "                duration_of_recordings.append(float(audio.shape[0]/sampleRate))\n",
    "                channels.append(len(audio.shape))\n",
    "            except KeyError:\n",
    "                print(f\"Error occured couldn't find path for {i}\")\n",
    "                continue\n",
    "            except Exception:\n",
    "                print(f\"Error Occured for file {i}\")\n",
    "                traceback.print_exc()\n",
    "                continue\n",
    "                \n",
    "                \n",
    "        data=pd.DataFrame({'file': filenames,'text': target,'path':paths,'sample_rate':sampleRates,\"channels\":channels, 'duration':duration_of_recordings})\n",
    "        self.meta=data\n",
    "        return data\n",
    "    def generate_meta_data(self):\n",
    "        self.load_audio_file_paths()\n",
    "        self.load_transcription()\n",
    "        self.meta_data()\n",
    "        return self.meta\n",
    "    def get_meta(self):\n",
    "        return self.meta\n",
    "    def meta_to_csv(self,path='meta.csv'):\n",
    "        self.meta.to_csv(path)"
   ]
  },
  {
   "cell_type": "code",
   "execution_count": 11,
   "id": "807f2828",
   "metadata": {},
   "outputs": [],
   "source": [
    "import sys, os\n",
    "\n",
    "#sys.path.append(os.path.abspath(os.path.join('scripts')))\n",
    "#from metadata import MetaCreate"
   ]
  },
  {
   "cell_type": "code",
   "execution_count": 12,
   "id": "4986749a",
   "metadata": {},
   "outputs": [],
   "source": [
    "meta=MetaCreate()\n",
    "meta_data=meta.generate_meta_data()"
   ]
  },
  {
   "cell_type": "code",
   "execution_count": null,
   "id": "04270f0a",
   "metadata": {},
   "outputs": [],
   "source": [
    "meta_data.head()"
   ]
  }
 ],
 "metadata": {
  "kernelspec": {
   "display_name": "Python 3",
   "language": "python",
   "name": "python3"
  },
  "language_info": {
   "codemirror_mode": {
    "name": "ipython",
    "version": 3
   },
   "file_extension": ".py",
   "mimetype": "text/x-python",
   "name": "python",
   "nbconvert_exporter": "python",
   "pygments_lexer": "ipython3",
   "version": "3.8.8"
  }
 },
 "nbformat": 4,
 "nbformat_minor": 5
}
